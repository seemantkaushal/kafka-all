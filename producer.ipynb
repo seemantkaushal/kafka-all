{
 "cells": [
  {
   "cell_type": "code",
   "execution_count": 7,
   "metadata": {},
   "outputs": [
    {
     "name": "stdout",
     "output_type": "stream",
     "text": [
      "Collecting kafka-python-ng\n",
      "  Downloading kafka_python_ng-2.2.2-py2.py3-none-any.whl.metadata (9.2 kB)\n",
      "Downloading kafka_python_ng-2.2.2-py2.py3-none-any.whl (232 kB)\n",
      "Installing collected packages: kafka-python-ng\n",
      "Successfully installed kafka-python-ng-2.2.2\n",
      "Note: you may need to restart the kernel to use updated packages.\n"
     ]
    }
   ],
   "source": [
    "# pip install kafka-python-ng\n"
   ]
  },
  {
   "cell_type": "code",
   "execution_count": 10,
   "metadata": {},
   "outputs": [
    {
     "name": "stdout",
     "output_type": "stream",
     "text": [
      "Collecting pandasNote: you may need to restart the kernel to use updated packages.\n",
      "\n",
      "  Downloading pandas-2.2.2-cp312-cp312-win_amd64.whl.metadata (19 kB)\n",
      "Collecting numpy>=1.26.0 (from pandas)\n",
      "  Downloading numpy-2.1.1-cp312-cp312-win_amd64.whl.metadata (59 kB)\n",
      "Requirement already satisfied: python-dateutil>=2.8.2 in d:\\onedrive\\documents\\de\\.venv\\lib\\site-packages (from pandas) (2.9.0.post0)\n",
      "Collecting pytz>=2020.1 (from pandas)\n",
      "  Downloading pytz-2024.2-py2.py3-none-any.whl.metadata (22 kB)\n",
      "Collecting tzdata>=2022.7 (from pandas)\n",
      "  Using cached tzdata-2024.1-py2.py3-none-any.whl.metadata (1.4 kB)\n",
      "Requirement already satisfied: six>=1.5 in d:\\onedrive\\documents\\de\\.venv\\lib\\site-packages (from python-dateutil>=2.8.2->pandas) (1.16.0)\n",
      "Downloading pandas-2.2.2-cp312-cp312-win_amd64.whl (11.5 MB)\n",
      "   ---------------------------------------- 0.0/11.5 MB ? eta -:--:--\n",
      "    --------------------------------------- 0.3/11.5 MB ? eta -:--:--\n",
      "    --------------------------------------- 0.3/11.5 MB ? eta -:--:--\n",
      "   - -------------------------------------- 0.5/11.5 MB 764.3 kB/s eta 0:00:15\n",
      "   --- ------------------------------------ 1.0/11.5 MB 1.2 MB/s eta 0:00:09\n",
      "   ----- ---------------------------------- 1.6/11.5 MB 1.3 MB/s eta 0:00:08\n",
      "   ----- ---------------------------------- 1.6/11.5 MB 1.3 MB/s eta 0:00:08\n",
      "   -------- ------------------------------- 2.4/11.5 MB 1.6 MB/s eta 0:00:06\n",
      "   --------- ------------------------------ 2.6/11.5 MB 1.5 MB/s eta 0:00:07\n",
      "   ---------- ----------------------------- 3.1/11.5 MB 1.7 MB/s eta 0:00:05\n",
      "   ---------- ----------------------------- 3.1/11.5 MB 1.7 MB/s eta 0:00:05\n",
      "   ------------- -------------------------- 3.9/11.5 MB 1.6 MB/s eta 0:00:05\n",
      "   ------------- -------------------------- 3.9/11.5 MB 1.6 MB/s eta 0:00:05\n",
      "   ----------------- ---------------------- 5.0/11.5 MB 1.8 MB/s eta 0:00:04\n",
      "   --------------------- ------------------ 6.3/11.5 MB 2.1 MB/s eta 0:00:03\n",
      "   ---------------------- ----------------- 6.6/11.5 MB 2.2 MB/s eta 0:00:03\n",
      "   ----------------------- ---------------- 6.8/11.5 MB 2.1 MB/s eta 0:00:03\n",
      "   -------------------------- ------------- 7.6/11.5 MB 2.1 MB/s eta 0:00:02\n",
      "   ------------------------------- -------- 9.2/11.5 MB 2.4 MB/s eta 0:00:01\n",
      "   -------------------------------------- - 11.0/11.5 MB 2.7 MB/s eta 0:00:01\n",
      "   ---------------------------------------- 11.5/11.5 MB 2.8 MB/s eta 0:00:00\n",
      "Downloading numpy-2.1.1-cp312-cp312-win_amd64.whl (12.6 MB)\n",
      "   ---------------------------------------- 0.0/12.6 MB ? eta -:--:--\n",
      "   --- ------------------------------------ 1.0/12.6 MB 5.6 MB/s eta 0:00:03\n",
      "   ------- -------------------------------- 2.4/12.6 MB 5.6 MB/s eta 0:00:02\n",
      "   ---------- ----------------------------- 3.4/12.6 MB 6.3 MB/s eta 0:00:02\n",
      "   ------------- -------------------------- 4.2/12.6 MB 5.0 MB/s eta 0:00:02\n",
      "   -------------- ------------------------- 4.5/12.6 MB 4.5 MB/s eta 0:00:02\n",
      "   ----------------- ---------------------- 5.5/12.6 MB 4.4 MB/s eta 0:00:02\n",
      "   ------------------- -------------------- 6.0/12.6 MB 4.2 MB/s eta 0:00:02\n",
      "   ---------------------- ----------------- 7.1/12.6 MB 4.2 MB/s eta 0:00:02\n",
      "   ------------------------- -------------- 8.1/12.6 MB 4.3 MB/s eta 0:00:02\n",
      "   ----------------------------- ---------- 9.2/12.6 MB 4.4 MB/s eta 0:00:01\n",
      "   ------------------------------- -------- 10.0/12.6 MB 4.3 MB/s eta 0:00:01\n",
      "   ---------------------------------- ----- 10.7/12.6 MB 4.3 MB/s eta 0:00:01\n",
      "   -------------------------------------- - 12.1/12.6 MB 4.4 MB/s eta 0:00:01\n",
      "   ---------------------------------------- 12.6/12.6 MB 4.4 MB/s eta 0:00:00\n",
      "Downloading pytz-2024.2-py2.py3-none-any.whl (508 kB)\n",
      "Using cached tzdata-2024.1-py2.py3-none-any.whl (345 kB)\n",
      "Installing collected packages: pytz, tzdata, numpy, pandas\n",
      "Successfully installed numpy-2.1.1 pandas-2.2.2 pytz-2024.2 tzdata-2024.1\n"
     ]
    }
   ],
   "source": [
    "# pip install pandas\n"
   ]
  },
  {
   "cell_type": "code",
   "execution_count": null,
   "metadata": {},
   "outputs": [],
   "source": []
  },
  {
   "cell_type": "code",
   "execution_count": 1,
   "metadata": {},
   "outputs": [],
   "source": [
    "import pandas as pd\n",
    "from kafka import KafkaProducer\n",
    "from time import sleep\n",
    "from json import dumps\n",
    "import json"
   ]
  },
  {
   "cell_type": "code",
   "execution_count": 2,
   "metadata": {},
   "outputs": [],
   "source": [
    "producer = KafkaProducer(bootstrap_servers=['44.211.143.65:9092'], #change ip here\n",
    "                         value_serializer=lambda x: \n",
    "                         dumps(x).encode('utf-8'),\n",
    "                         api_version=(0, 10, 1))"
   ]
  },
  {
   "cell_type": "code",
   "execution_count": 26,
   "metadata": {},
   "outputs": [],
   "source": [
    "df=pd.read_csv(r\"D:\\OneDrive\\Documents\\DE\\stock_market\\indexProcessed.csv\")"
   ]
  },
  {
   "cell_type": "code",
   "execution_count": 27,
   "metadata": {},
   "outputs": [
    {
     "data": {
      "text/html": [
       "<div>\n",
       "<style scoped>\n",
       "    .dataframe tbody tr th:only-of-type {\n",
       "        vertical-align: middle;\n",
       "    }\n",
       "\n",
       "    .dataframe tbody tr th {\n",
       "        vertical-align: top;\n",
       "    }\n",
       "\n",
       "    .dataframe thead th {\n",
       "        text-align: right;\n",
       "    }\n",
       "</style>\n",
       "<table border=\"1\" class=\"dataframe\">\n",
       "  <thead>\n",
       "    <tr style=\"text-align: right;\">\n",
       "      <th></th>\n",
       "      <th>Index</th>\n",
       "      <th>Date</th>\n",
       "      <th>Open</th>\n",
       "      <th>High</th>\n",
       "      <th>Low</th>\n",
       "      <th>Close</th>\n",
       "      <th>Adj Close</th>\n",
       "      <th>Volume</th>\n",
       "      <th>CloseUSD</th>\n",
       "    </tr>\n",
       "  </thead>\n",
       "  <tbody>\n",
       "    <tr>\n",
       "      <th>56145</th>\n",
       "      <td>N100</td>\n",
       "      <td>2005-04-15</td>\n",
       "      <td>698.799988</td>\n",
       "      <td>698.799988</td>\n",
       "      <td>692.150024</td>\n",
       "      <td>692.150024</td>\n",
       "      <td>692.150024</td>\n",
       "      <td>0.0</td>\n",
       "      <td>844.423029</td>\n",
       "    </tr>\n",
       "  </tbody>\n",
       "</table>\n",
       "</div>"
      ],
      "text/plain": [
       "      Index        Date        Open        High         Low       Close  \\\n",
       "56145  N100  2005-04-15  698.799988  698.799988  692.150024  692.150024   \n",
       "\n",
       "        Adj Close  Volume    CloseUSD  \n",
       "56145  692.150024     0.0  844.423029  "
      ]
     },
     "execution_count": 27,
     "metadata": {},
     "output_type": "execute_result"
    }
   ],
   "source": [
    "df.sample()"
   ]
  },
  {
   "cell_type": "code",
   "execution_count": 46,
   "metadata": {},
   "outputs": [
    {
     "ename": "KeyboardInterrupt",
     "evalue": "",
     "output_type": "error",
     "traceback": [
      "\u001b[1;31m---------------------------------------------------------------------------\u001b[0m",
      "\u001b[1;31mKeyboardInterrupt\u001b[0m                         Traceback (most recent call last)",
      "Cell \u001b[1;32mIn[46], line 5\u001b[0m\n\u001b[0;32m      3\u001b[0m     rec\u001b[38;5;241m=\u001b[39mdf\u001b[38;5;241m.\u001b[39msample(\u001b[38;5;241m1\u001b[39m)\u001b[38;5;241m.\u001b[39mto_dict(orient\u001b[38;5;241m=\u001b[39m\u001b[38;5;124m\"\u001b[39m\u001b[38;5;124mrecords\u001b[39m\u001b[38;5;124m\"\u001b[39m)[\u001b[38;5;241m0\u001b[39m]\n\u001b[0;32m      4\u001b[0m     producer\u001b[38;5;241m.\u001b[39msend(\u001b[38;5;124m\"\u001b[39m\u001b[38;5;124mdemo_test\u001b[39m\u001b[38;5;124m\"\u001b[39m,value\u001b[38;5;241m=\u001b[39mrec)\n\u001b[1;32m----> 5\u001b[0m     \u001b[43msleep\u001b[49m\u001b[43m(\u001b[49m\u001b[38;5;241;43m1\u001b[39;49m\u001b[43m)\u001b[49m\n\u001b[0;32m      7\u001b[0m producer\u001b[38;5;241m.\u001b[39mflush()\n",
      "\u001b[1;31mKeyboardInterrupt\u001b[0m: "
     ]
    }
   ],
   "source": [
    "# we need to convert the dataframe to json format - dictionaryformate\n",
    "while True:\n",
    "    rec=df.sample(1).to_dict(orient=\"records\")[0]\n",
    "    producer.send(\"demo_test\",value=rec)\n",
    "    sleep(1)\n",
    "\n",
    "producer.flush()"
   ]
  },
  {
   "cell_type": "code",
   "execution_count": 44,
   "metadata": {},
   "outputs": [],
   "source": [
    "producer.flush()"
   ]
  },
  {
   "cell_type": "code",
   "execution_count": null,
   "metadata": {},
   "outputs": [],
   "source": []
  }
 ],
 "metadata": {
  "kernelspec": {
   "display_name": "Python 3",
   "language": "python",
   "name": "python3"
  },
  "language_info": {
   "codemirror_mode": {
    "name": "ipython",
    "version": 3
   },
   "file_extension": ".py",
   "mimetype": "text/x-python",
   "name": "python",
   "nbconvert_exporter": "python",
   "pygments_lexer": "ipython3",
   "version": "3.12.0"
  }
 },
 "nbformat": 4,
 "nbformat_minor": 2
}
